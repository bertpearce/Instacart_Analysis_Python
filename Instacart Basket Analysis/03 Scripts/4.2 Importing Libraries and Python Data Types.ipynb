{
 "cells": [
  {
   "cell_type": "markdown",
   "id": "7087c84b-3b4c-48d2-9a15-c91f3fd04fcb",
   "metadata": {},
   "source": [
    "# 00. Table of Contents"
   ]
  },
  {
   "cell_type": "markdown",
   "id": "c0a8888d-6d12-4369-9a1c-33ed4664dd36",
   "metadata": {},
   "source": [
    "01. Importing Libraries\n",
    "02. Python Data Types"
   ]
  },
  {
   "cell_type": "markdown",
   "id": "1dec9896-cc49-42e8-b967-5953e6fdc457",
   "metadata": {
    "tags": []
   },
   "source": [
    "# 01. Importing Libraries"
   ]
  },
  {
   "cell_type": "code",
   "execution_count": 2,
   "id": "b445e834-2813-4401-94d1-6cc0129678ca",
   "metadata": {},
   "outputs": [],
   "source": [
    "# Import libraries\n",
    "import pandas as pd\n",
    "import numpy as np\n",
    "import os"
   ]
  },
  {
   "cell_type": "code",
   "execution_count": 1,
   "id": "efba1a6d-6259-4a6b-abf0-626aefcfe1e7",
   "metadata": {
    "tags": []
   },
   "outputs": [],
   "source": [
    "# Imported pandas, NumPy, and OS"
   ]
  },
  {
   "cell_type": "markdown",
   "id": "e85d99ef-48af-464e-aee0-5337868a95db",
   "metadata": {},
   "source": [
    "# 02. Python Data Types"
   ]
  },
  {
   "cell_type": "code",
   "execution_count": 9,
   "id": "c315a41f-f82f-4f9d-a981-5a19eb6e2bbf",
   "metadata": {
    "tags": []
   },
   "outputs": [],
   "source": [
    "x=25"
   ]
  },
  {
   "cell_type": "code",
   "execution_count": 11,
   "id": "ef76e62c-05dd-437e-bae5-02e811aa53a4",
   "metadata": {
    "tags": []
   },
   "outputs": [],
   "source": [
    "y=50"
   ]
  },
  {
   "cell_type": "code",
   "execution_count": 13,
   "id": "2c47086c-5f9b-4914-857a-36e1bb0b0a39",
   "metadata": {
    "tags": []
   },
   "outputs": [
    {
     "name": "stdout",
     "output_type": "stream",
     "text": [
      "100\n"
     ]
    }
   ],
   "source": [
    "print(x+x+x+x)"
   ]
  },
  {
   "cell_type": "code",
   "execution_count": 15,
   "id": "af7d1c3c-a5a5-4b54-bee6-e903ecd0e185",
   "metadata": {
    "tags": []
   },
   "outputs": [
    {
     "name": "stdout",
     "output_type": "stream",
     "text": [
      "100\n"
     ]
    }
   ],
   "source": [
    "print(x+x+y)"
   ]
  },
  {
   "cell_type": "code",
   "execution_count": 17,
   "id": "c0917932-75f1-4ffd-a87e-e7dcff19abab",
   "metadata": {
    "tags": []
   },
   "outputs": [
    {
     "name": "stdout",
     "output_type": "stream",
     "text": [
      "100\n"
     ]
    }
   ],
   "source": [
    "print(y+y)"
   ]
  },
  {
   "cell_type": "code",
   "execution_count": 19,
   "id": "8575dbc7-1840-4182-b975-857d3b4c4754",
   "metadata": {
    "tags": []
   },
   "outputs": [],
   "source": [
    "a=0.5"
   ]
  },
  {
   "cell_type": "code",
   "execution_count": 21,
   "id": "69ea9795-0f66-48d0-b0db-f91a66f09885",
   "metadata": {
    "tags": []
   },
   "outputs": [],
   "source": [
    "b=0.75"
   ]
  },
  {
   "cell_type": "code",
   "execution_count": 23,
   "id": "9a9965f6-51af-4676-8e2f-b0cc4a95e858",
   "metadata": {
    "tags": []
   },
   "outputs": [
    {
     "name": "stdout",
     "output_type": "stream",
     "text": [
      "1.5\n"
     ]
    }
   ],
   "source": [
    "print(b/a)"
   ]
  },
  {
   "cell_type": "code",
   "execution_count": 25,
   "id": "41808b5c-92c5-4f3a-a5c8-6c00af6f8da2",
   "metadata": {
    "tags": []
   },
   "outputs": [],
   "source": [
    "c='B'"
   ]
  },
  {
   "cell_type": "code",
   "execution_count": 27,
   "id": "f797c49c-018a-48fb-bde3-d28de8ee8f21",
   "metadata": {
    "tags": []
   },
   "outputs": [],
   "source": [
    "d='e'"
   ]
  },
  {
   "cell_type": "code",
   "execution_count": 29,
   "id": "beae15df-9c0b-407c-8de9-3ad204168410",
   "metadata": {
    "tags": []
   },
   "outputs": [],
   "source": [
    "e='r'"
   ]
  },
  {
   "cell_type": "code",
   "execution_count": 31,
   "id": "b303f920-2dc7-48a5-aae4-339e91718146",
   "metadata": {
    "tags": []
   },
   "outputs": [],
   "source": [
    "f='t'"
   ]
  },
  {
   "cell_type": "code",
   "execution_count": 33,
   "id": "606b0b92-07f8-4bc1-a06a-44e7f3b3670a",
   "metadata": {
    "tags": []
   },
   "outputs": [
    {
     "name": "stdout",
     "output_type": "stream",
     "text": [
      "Bert\n"
     ]
    }
   ],
   "source": [
    "print(c+d+e+f)"
   ]
  },
  {
   "cell_type": "code",
   "execution_count": 45,
   "id": "3422e50b-ca6f-4b2b-86b9-1e4bf8deaf0f",
   "metadata": {
    "tags": []
   },
   "outputs": [],
   "source": [
    "g='When it rains,'"
   ]
  },
  {
   "cell_type": "code",
   "execution_count": 39,
   "id": "5e3770ab-a7ed-453d-a19f-f13bb42d371e",
   "metadata": {
    "tags": []
   },
   "outputs": [],
   "source": [
    "h=' it pours.'"
   ]
  },
  {
   "cell_type": "code",
   "execution_count": 41,
   "id": "f0590932-6112-4b8d-8184-96ec4c1339a9",
   "metadata": {
    "tags": []
   },
   "outputs": [],
   "source": [
    "i=' it storms.'"
   ]
  },
  {
   "cell_type": "code",
   "execution_count": 47,
   "id": "427c47b6-6aef-4c6c-94e1-2ad7a40535ad",
   "metadata": {
    "tags": []
   },
   "outputs": [
    {
     "name": "stdout",
     "output_type": "stream",
     "text": [
      "When it rains, it pours.\n"
     ]
    }
   ],
   "source": [
    "print(g+h)"
   ]
  },
  {
   "cell_type": "code",
   "execution_count": 49,
   "id": "d00311c4-a6ed-40ad-9461-6c7146b21aba",
   "metadata": {
    "tags": []
   },
   "outputs": [
    {
     "name": "stdout",
     "output_type": "stream",
     "text": [
      "When it rains, it storms.\n"
     ]
    }
   ],
   "source": [
    "print(g+i)"
   ]
  },
  {
   "cell_type": "code",
   "execution_count": null,
   "id": "00104043-d1fb-4c6a-bef9-ddccd1a994f5",
   "metadata": {},
   "outputs": [],
   "source": []
  }
 ],
 "metadata": {
  "kernelspec": {
   "display_name": "Python 3 (ipykernel)",
   "language": "python",
   "name": "python3"
  },
  "language_info": {
   "codemirror_mode": {
    "name": "ipython",
    "version": 3
   },
   "file_extension": ".py",
   "mimetype": "text/x-python",
   "name": "python",
   "nbconvert_exporter": "python",
   "pygments_lexer": "ipython3",
   "version": "3.11.7"
  }
 },
 "nbformat": 4,
 "nbformat_minor": 5
}

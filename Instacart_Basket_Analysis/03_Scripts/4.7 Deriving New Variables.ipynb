{
 "cells": [
  {
   "cell_type": "markdown",
   "id": "f6df5bf8-3af2-4bd9-a35a-1d32143fb0b7",
   "metadata": {},
   "source": [
    "# 00. Table of Contents"
   ]
  },
  {
   "cell_type": "markdown",
   "id": "dda21630-6026-47bb-b108-f5b272e63f53",
   "metadata": {},
   "source": [
    "01. Import Libraries\n",
    "02. Import Data\n",
    "03. Review Data\n",
    "04. Derive Variables\n",
    "05. Task Step 2-3\n",
    "06. Task Step 4-5\n",
    "07. Export Data"
   ]
  },
  {
   "cell_type": "markdown",
   "id": "a9643042-6e17-4e52-b6b0-2f9ce17fc4cb",
   "metadata": {},
   "source": [
    "## 01. Import libraries"
   ]
  },
  {
   "cell_type": "code",
   "execution_count": 1,
   "id": "c2a33e6b-e024-4ce4-b892-98bfb54317f8",
   "metadata": {},
   "outputs": [
    {
     "name": "stdout",
     "output_type": "stream",
     "text": [
      "Import libraries completed\n"
     ]
    }
   ],
   "source": [
    "# Import libraries\n",
    "\n",
    "import pandas as pd\n",
    "import numpy as np\n",
    "import os\n",
    "\n",
    "print(f\"Import libraries completed\")"
   ]
  },
  {
   "cell_type": "markdown",
   "id": "831ba238-d83a-4a34-85c2-6c5da1fac8bd",
   "metadata": {},
   "source": [
    "## 02. Import data"
   ]
  },
  {
   "cell_type": "code",
   "execution_count": 2,
   "id": "a16bee73-9d03-47dc-80fb-3db9da61f6e8",
   "metadata": {},
   "outputs": [
    {
     "name": "stdout",
     "output_type": "stream",
     "text": [
      "DataFrame df_ords_prods_merge created\n"
     ]
    }
   ],
   "source": [
    "# Import ords_prods_merge.pkl as dataframe df_ords_prods_merge\n",
    "\n",
    "folder_path = r'/Users/bertpearce/Documents/Python Projects/2024.05.22 Instacard Basket Analysis/'\n",
    "\n",
    "file_name = 'ords_prods_merge.pkl'\n",
    "\n",
    "df_ords_prods_merge = pd.read_pickle(os.path.join(folder_path, '02 Data', 'Prepared Data', 'ords_prods_merge.pkl'))\n",
    "\n",
    "print(f\"DataFrame df_ords_prods_merge created\")"
   ]
  },
  {
   "cell_type": "markdown",
   "id": "ff6c3331-db42-4b6e-b64e-f56c27e19f83",
   "metadata": {},
   "source": [
    "## 03. Review data"
   ]
  },
  {
   "cell_type": "code",
   "execution_count": 3,
   "id": "ccf97958-a2cc-4842-b35a-c35c9a005b48",
   "metadata": {},
   "outputs": [
    {
     "data": {
      "text/html": [
       "<div>\n",
       "<style scoped>\n",
       "    .dataframe tbody tr th:only-of-type {\n",
       "        vertical-align: middle;\n",
       "    }\n",
       "\n",
       "    .dataframe tbody tr th {\n",
       "        vertical-align: top;\n",
       "    }\n",
       "\n",
       "    .dataframe thead th {\n",
       "        text-align: right;\n",
       "    }\n",
       "</style>\n",
       "<table border=\"1\" class=\"dataframe\">\n",
       "  <thead>\n",
       "    <tr style=\"text-align: right;\">\n",
       "      <th></th>\n",
       "      <th>Unnamed: 0</th>\n",
       "      <th>order_id</th>\n",
       "      <th>user_id</th>\n",
       "      <th>order_number</th>\n",
       "      <th>orders_day_of_week</th>\n",
       "      <th>order_hour_of_day</th>\n",
       "      <th>days_since_prior_order</th>\n",
       "      <th>product_id</th>\n",
       "      <th>add_to_cart_order</th>\n",
       "      <th>reordered</th>\n",
       "      <th>_merge</th>\n",
       "      <th>product_name</th>\n",
       "      <th>aisle_id</th>\n",
       "      <th>department_id</th>\n",
       "      <th>prices</th>\n",
       "    </tr>\n",
       "  </thead>\n",
       "  <tbody>\n",
       "    <tr>\n",
       "      <th>0</th>\n",
       "      <td>0.0</td>\n",
       "      <td>2539329.0</td>\n",
       "      <td>1.0</td>\n",
       "      <td>1.0</td>\n",
       "      <td>2.0</td>\n",
       "      <td>8.0</td>\n",
       "      <td>NaN</td>\n",
       "      <td>196</td>\n",
       "      <td>1.0</td>\n",
       "      <td>0.0</td>\n",
       "      <td>both</td>\n",
       "      <td>Soda</td>\n",
       "      <td>77.0</td>\n",
       "      <td>7.0</td>\n",
       "      <td>9.0</td>\n",
       "    </tr>\n",
       "    <tr>\n",
       "      <th>1</th>\n",
       "      <td>1.0</td>\n",
       "      <td>2398795.0</td>\n",
       "      <td>1.0</td>\n",
       "      <td>2.0</td>\n",
       "      <td>3.0</td>\n",
       "      <td>7.0</td>\n",
       "      <td>15.0</td>\n",
       "      <td>196</td>\n",
       "      <td>1.0</td>\n",
       "      <td>1.0</td>\n",
       "      <td>both</td>\n",
       "      <td>Soda</td>\n",
       "      <td>77.0</td>\n",
       "      <td>7.0</td>\n",
       "      <td>9.0</td>\n",
       "    </tr>\n",
       "    <tr>\n",
       "      <th>2</th>\n",
       "      <td>2.0</td>\n",
       "      <td>473747.0</td>\n",
       "      <td>1.0</td>\n",
       "      <td>3.0</td>\n",
       "      <td>3.0</td>\n",
       "      <td>12.0</td>\n",
       "      <td>21.0</td>\n",
       "      <td>196</td>\n",
       "      <td>1.0</td>\n",
       "      <td>1.0</td>\n",
       "      <td>both</td>\n",
       "      <td>Soda</td>\n",
       "      <td>77.0</td>\n",
       "      <td>7.0</td>\n",
       "      <td>9.0</td>\n",
       "    </tr>\n",
       "    <tr>\n",
       "      <th>3</th>\n",
       "      <td>3.0</td>\n",
       "      <td>2254736.0</td>\n",
       "      <td>1.0</td>\n",
       "      <td>4.0</td>\n",
       "      <td>4.0</td>\n",
       "      <td>7.0</td>\n",
       "      <td>29.0</td>\n",
       "      <td>196</td>\n",
       "      <td>1.0</td>\n",
       "      <td>1.0</td>\n",
       "      <td>both</td>\n",
       "      <td>Soda</td>\n",
       "      <td>77.0</td>\n",
       "      <td>7.0</td>\n",
       "      <td>9.0</td>\n",
       "    </tr>\n",
       "    <tr>\n",
       "      <th>4</th>\n",
       "      <td>4.0</td>\n",
       "      <td>431534.0</td>\n",
       "      <td>1.0</td>\n",
       "      <td>5.0</td>\n",
       "      <td>4.0</td>\n",
       "      <td>15.0</td>\n",
       "      <td>28.0</td>\n",
       "      <td>196</td>\n",
       "      <td>1.0</td>\n",
       "      <td>1.0</td>\n",
       "      <td>both</td>\n",
       "      <td>Soda</td>\n",
       "      <td>77.0</td>\n",
       "      <td>7.0</td>\n",
       "      <td>9.0</td>\n",
       "    </tr>\n",
       "  </tbody>\n",
       "</table>\n",
       "</div>"
      ],
      "text/plain": [
       "   Unnamed: 0   order_id  user_id  order_number  orders_day_of_week  \\\n",
       "0         0.0  2539329.0      1.0           1.0                 2.0   \n",
       "1         1.0  2398795.0      1.0           2.0                 3.0   \n",
       "2         2.0   473747.0      1.0           3.0                 3.0   \n",
       "3         3.0  2254736.0      1.0           4.0                 4.0   \n",
       "4         4.0   431534.0      1.0           5.0                 4.0   \n",
       "\n",
       "   order_hour_of_day  days_since_prior_order  product_id  add_to_cart_order  \\\n",
       "0                8.0                     NaN         196                1.0   \n",
       "1                7.0                    15.0         196                1.0   \n",
       "2               12.0                    21.0         196                1.0   \n",
       "3                7.0                    29.0         196                1.0   \n",
       "4               15.0                    28.0         196                1.0   \n",
       "\n",
       "   reordered _merge product_name  aisle_id  department_id  prices  \n",
       "0        0.0   both         Soda      77.0            7.0     9.0  \n",
       "1        1.0   both         Soda      77.0            7.0     9.0  \n",
       "2        1.0   both         Soda      77.0            7.0     9.0  \n",
       "3        1.0   both         Soda      77.0            7.0     9.0  \n",
       "4        1.0   both         Soda      77.0            7.0     9.0  "
      ]
     },
     "execution_count": 3,
     "metadata": {},
     "output_type": "execute_result"
    }
   ],
   "source": [
    "# Review dataframe df_ords_prods_merge; Print the first 5 rows\n",
    "\n",
    "df_ords_prods_merge.head()"
   ]
  },
  {
   "cell_type": "code",
   "execution_count": 4,
   "id": "9c064318-4f42-43fe-8af7-d4c78ba6b553",
   "metadata": {},
   "outputs": [
    {
     "data": {
      "text/plain": [
       "(32435070, 15)"
      ]
     },
     "execution_count": 4,
     "metadata": {},
     "output_type": "execute_result"
    }
   ],
   "source": [
    "# Review column/row dimensions for dataframe df_ords_prods_merge\n",
    "\n",
    "df_ords_prods_merge.shape"
   ]
  },
  {
   "cell_type": "markdown",
   "id": "51ad741a-9dcb-48db-80d4-38b57d9f427f",
   "metadata": {},
   "source": [
    "## 04. Derive variables"
   ]
  },
  {
   "cell_type": "code",
   "execution_count": 5,
   "id": "04b7258d-94fa-4bad-9a1f-0e6ab2bbf6c1",
   "metadata": {},
   "outputs": [
    {
     "name": "stdout",
     "output_type": "stream",
     "text": [
      "Custom function created\n"
     ]
    }
   ],
   "source": [
    "# Define a function\n",
    "\n",
    "def price_label(row):\n",
    "\n",
    "  if row['prices'] <= 5:\n",
    "    return 'Low-range product'\n",
    "      \n",
    "  elif (row['prices'] > 5) and (row['prices'] <= 15):\n",
    "    return 'Mid-range product'\n",
    "      \n",
    "  elif row['prices'] > 15:\n",
    "    return 'High range'\n",
    "      \n",
    "  else: return 'Not enough data'\n",
    "\n",
    "print(f\"Custom function created\")"
   ]
  },
  {
   "cell_type": "code",
   "execution_count": 6,
   "id": "04974ffc-ce14-4c43-84be-7d7c6dfbdee5",
   "metadata": {},
   "outputs": [
    {
     "name": "stdout",
     "output_type": "stream",
     "text": [
      "New column added to dataframe\n"
     ]
    }
   ],
   "source": [
    "# Apply the function\n",
    "\n",
    "df_ords_prods_merge['price_range'] = df_ords_prods_merge.apply(price_label, axis=1)\n",
    "\n",
    "print(f\"New column added to dataframe\")"
   ]
  },
  {
   "cell_type": "code",
   "execution_count": 7,
   "id": "f2dcc616-1993-4b87-a932-dce11f524391",
   "metadata": {},
   "outputs": [
    {
     "data": {
      "text/plain": [
       "price_range\n",
       "Mid-range product    21860868\n",
       "Low-range product    10126324\n",
       "High range             417678\n",
       "Not enough data         30200\n",
       "Name: count, dtype: int64"
      ]
     },
     "execution_count": 7,
     "metadata": {},
     "output_type": "execute_result"
    }
   ],
   "source": [
    "# Review the value counts\n",
    "\n",
    "df_ords_prods_merge['price_range'].value_counts()"
   ]
  },
  {
   "cell_type": "code",
   "execution_count": 9,
   "id": "236306ec-9e8f-4a17-8c91-7309009fb2a7",
   "metadata": {},
   "outputs": [
    {
     "data": {
      "text/plain": [
       "99999.0"
      ]
     },
     "execution_count": 9,
     "metadata": {},
     "output_type": "execute_result"
    }
   ],
   "source": [
    "# Identify the max value \n",
    "\n",
    "df_ords_prods_merge['prices'].max()"
   ]
  },
  {
   "cell_type": "code",
   "execution_count": 11,
   "id": "c7af081a-ed1b-45f7-ad01-2eef4ec8f2e0",
   "metadata": {},
   "outputs": [
    {
     "name": "stdout",
     "output_type": "stream",
     "text": [
      "Column populated with loc() function\n"
     ]
    }
   ],
   "source": [
    "# Populate the column using a loc() function.\n",
    "\n",
    "df_ords_prods_merge.loc[df_ords_prods_merge['prices'] > 15, 'price_range_loc'] = 'High-range product'\n",
    "\n",
    "print(f\"Column populated with loc() function\")"
   ]
  },
  {
   "cell_type": "code",
   "execution_count": 12,
   "id": "f69f7e64-c1f6-40dd-bb5f-b271b2c07fe4",
   "metadata": {},
   "outputs": [
    {
     "name": "stdout",
     "output_type": "stream",
     "text": [
      "Column populated with loc() function\n"
     ]
    }
   ],
   "source": [
    "# Populate the column using a loc() function.\n",
    "\n",
    "df_ords_prods_merge.loc[(df_ords_prods_merge['prices'] <= 15) & (df_ords_prods_merge['prices'] > 5), 'price_range_loc'] = 'Mid-range product' \n",
    "\n",
    "print(f\"Column populated with loc() function\")"
   ]
  },
  {
   "cell_type": "code",
   "execution_count": 13,
   "id": "9fdfcb79-6614-411d-b00c-fbddaa231eb9",
   "metadata": {},
   "outputs": [
    {
     "name": "stdout",
     "output_type": "stream",
     "text": [
      "Column populated with loc() function\n"
     ]
    }
   ],
   "source": [
    "# Populate the column using a loc() function.\n",
    "\n",
    "df_ords_prods_merge.loc[df_ords_prods_merge['prices'] <= 5, 'price_range_loc'] = 'Low-range product'\n",
    "\n",
    "print(f\"Column populated with loc() function\")"
   ]
  },
  {
   "cell_type": "code",
   "execution_count": 14,
   "id": "8fd5aca5-bbef-4b25-b3f9-2784bbd2d72b",
   "metadata": {},
   "outputs": [
    {
     "data": {
      "text/plain": [
       "price_range_loc\n",
       "Mid-range product     21860868\n",
       "Low-range product     10126324\n",
       "High-range product      417678\n",
       "nan                      30200\n",
       "Name: count, dtype: int64"
      ]
     },
     "execution_count": 14,
     "metadata": {},
     "output_type": "execute_result"
    }
   ],
   "source": [
    "# Review the value counts\n",
    "\n",
    "df_ords_prods_merge['price_range_loc'].value_counts()"
   ]
  },
  {
   "cell_type": "code",
   "execution_count": 16,
   "id": "610237ea-8d65-4c9d-b003-4b06cb8ccf11",
   "metadata": {},
   "outputs": [
    {
     "name": "stdout",
     "output_type": "stream",
     "text": [
      "List for new variable created and populated.\n"
     ]
    }
   ],
   "source": [
    "# Create a list to populate new variable using an if-statement and for-loops.\n",
    "\n",
    "result = []\n",
    "\n",
    "for value in df_ords_prods_merge[\"orders_day_of_week\"]:\n",
    "  if value == 0:\n",
    "    result.append(\"Busiest day\")\n",
    "  elif value == 4:\n",
    "    result.append(\"Least busy\")\n",
    "  else:\n",
    "    result.append(\"Regularly busy\")\n",
    "\n",
    "print(f\"List for new variable created and populated.\")"
   ]
  },
  {
   "cell_type": "code",
   "execution_count": 17,
   "id": "362738d6-7ccd-4826-b76a-a5987fcb46d1",
   "metadata": {},
   "outputs": [
    {
     "name": "stdout",
     "output_type": "stream",
     "text": [
      "Variable created and populated.\n"
     ]
    }
   ],
   "source": [
    "# Create and populate a new variable using the new list.\n",
    "\n",
    "df_ords_prods_merge['busiest_day'] = result\n",
    "\n",
    "print(f\"Variable created and populated.\")"
   ]
  },
  {
   "cell_type": "code",
   "execution_count": 18,
   "id": "8f68700c-5f95-4335-ba07-6ef8aab69466",
   "metadata": {},
   "outputs": [
    {
     "data": {
      "text/html": [
       "<div>\n",
       "<style scoped>\n",
       "    .dataframe tbody tr th:only-of-type {\n",
       "        vertical-align: middle;\n",
       "    }\n",
       "\n",
       "    .dataframe tbody tr th {\n",
       "        vertical-align: top;\n",
       "    }\n",
       "\n",
       "    .dataframe thead th {\n",
       "        text-align: right;\n",
       "    }\n",
       "</style>\n",
       "<table border=\"1\" class=\"dataframe\">\n",
       "  <thead>\n",
       "    <tr style=\"text-align: right;\">\n",
       "      <th></th>\n",
       "      <th>Unnamed: 0</th>\n",
       "      <th>order_id</th>\n",
       "      <th>user_id</th>\n",
       "      <th>order_number</th>\n",
       "      <th>orders_day_of_week</th>\n",
       "      <th>order_hour_of_day</th>\n",
       "      <th>days_since_prior_order</th>\n",
       "      <th>product_id</th>\n",
       "      <th>add_to_cart_order</th>\n",
       "      <th>reordered</th>\n",
       "      <th>_merge</th>\n",
       "      <th>product_name</th>\n",
       "      <th>aisle_id</th>\n",
       "      <th>department_id</th>\n",
       "      <th>prices</th>\n",
       "      <th>price_range</th>\n",
       "      <th>price_range_loc</th>\n",
       "      <th>busiest_day</th>\n",
       "    </tr>\n",
       "  </thead>\n",
       "  <tbody>\n",
       "    <tr>\n",
       "      <th>0</th>\n",
       "      <td>0.0</td>\n",
       "      <td>2539329.0</td>\n",
       "      <td>1.0</td>\n",
       "      <td>1.0</td>\n",
       "      <td>2.0</td>\n",
       "      <td>8.0</td>\n",
       "      <td>NaN</td>\n",
       "      <td>196</td>\n",
       "      <td>1.0</td>\n",
       "      <td>0.0</td>\n",
       "      <td>both</td>\n",
       "      <td>Soda</td>\n",
       "      <td>77.0</td>\n",
       "      <td>7.0</td>\n",
       "      <td>9.0</td>\n",
       "      <td>Mid-range product</td>\n",
       "      <td>Mid-range product</td>\n",
       "      <td>Regularly busy</td>\n",
       "    </tr>\n",
       "    <tr>\n",
       "      <th>1</th>\n",
       "      <td>1.0</td>\n",
       "      <td>2398795.0</td>\n",
       "      <td>1.0</td>\n",
       "      <td>2.0</td>\n",
       "      <td>3.0</td>\n",
       "      <td>7.0</td>\n",
       "      <td>15.0</td>\n",
       "      <td>196</td>\n",
       "      <td>1.0</td>\n",
       "      <td>1.0</td>\n",
       "      <td>both</td>\n",
       "      <td>Soda</td>\n",
       "      <td>77.0</td>\n",
       "      <td>7.0</td>\n",
       "      <td>9.0</td>\n",
       "      <td>Mid-range product</td>\n",
       "      <td>Mid-range product</td>\n",
       "      <td>Regularly busy</td>\n",
       "    </tr>\n",
       "    <tr>\n",
       "      <th>2</th>\n",
       "      <td>2.0</td>\n",
       "      <td>473747.0</td>\n",
       "      <td>1.0</td>\n",
       "      <td>3.0</td>\n",
       "      <td>3.0</td>\n",
       "      <td>12.0</td>\n",
       "      <td>21.0</td>\n",
       "      <td>196</td>\n",
       "      <td>1.0</td>\n",
       "      <td>1.0</td>\n",
       "      <td>both</td>\n",
       "      <td>Soda</td>\n",
       "      <td>77.0</td>\n",
       "      <td>7.0</td>\n",
       "      <td>9.0</td>\n",
       "      <td>Mid-range product</td>\n",
       "      <td>Mid-range product</td>\n",
       "      <td>Regularly busy</td>\n",
       "    </tr>\n",
       "    <tr>\n",
       "      <th>3</th>\n",
       "      <td>3.0</td>\n",
       "      <td>2254736.0</td>\n",
       "      <td>1.0</td>\n",
       "      <td>4.0</td>\n",
       "      <td>4.0</td>\n",
       "      <td>7.0</td>\n",
       "      <td>29.0</td>\n",
       "      <td>196</td>\n",
       "      <td>1.0</td>\n",
       "      <td>1.0</td>\n",
       "      <td>both</td>\n",
       "      <td>Soda</td>\n",
       "      <td>77.0</td>\n",
       "      <td>7.0</td>\n",
       "      <td>9.0</td>\n",
       "      <td>Mid-range product</td>\n",
       "      <td>Mid-range product</td>\n",
       "      <td>Least busy</td>\n",
       "    </tr>\n",
       "    <tr>\n",
       "      <th>4</th>\n",
       "      <td>4.0</td>\n",
       "      <td>431534.0</td>\n",
       "      <td>1.0</td>\n",
       "      <td>5.0</td>\n",
       "      <td>4.0</td>\n",
       "      <td>15.0</td>\n",
       "      <td>28.0</td>\n",
       "      <td>196</td>\n",
       "      <td>1.0</td>\n",
       "      <td>1.0</td>\n",
       "      <td>both</td>\n",
       "      <td>Soda</td>\n",
       "      <td>77.0</td>\n",
       "      <td>7.0</td>\n",
       "      <td>9.0</td>\n",
       "      <td>Mid-range product</td>\n",
       "      <td>Mid-range product</td>\n",
       "      <td>Least busy</td>\n",
       "    </tr>\n",
       "  </tbody>\n",
       "</table>\n",
       "</div>"
      ],
      "text/plain": [
       "   Unnamed: 0   order_id  user_id  order_number  orders_day_of_week  \\\n",
       "0         0.0  2539329.0      1.0           1.0                 2.0   \n",
       "1         1.0  2398795.0      1.0           2.0                 3.0   \n",
       "2         2.0   473747.0      1.0           3.0                 3.0   \n",
       "3         3.0  2254736.0      1.0           4.0                 4.0   \n",
       "4         4.0   431534.0      1.0           5.0                 4.0   \n",
       "\n",
       "   order_hour_of_day  days_since_prior_order  product_id  add_to_cart_order  \\\n",
       "0                8.0                     NaN         196                1.0   \n",
       "1                7.0                    15.0         196                1.0   \n",
       "2               12.0                    21.0         196                1.0   \n",
       "3                7.0                    29.0         196                1.0   \n",
       "4               15.0                    28.0         196                1.0   \n",
       "\n",
       "   reordered _merge product_name  aisle_id  department_id  prices  \\\n",
       "0        0.0   both         Soda      77.0            7.0     9.0   \n",
       "1        1.0   both         Soda      77.0            7.0     9.0   \n",
       "2        1.0   both         Soda      77.0            7.0     9.0   \n",
       "3        1.0   both         Soda      77.0            7.0     9.0   \n",
       "4        1.0   both         Soda      77.0            7.0     9.0   \n",
       "\n",
       "         price_range    price_range_loc     busiest_day  \n",
       "0  Mid-range product  Mid-range product  Regularly busy  \n",
       "1  Mid-range product  Mid-range product  Regularly busy  \n",
       "2  Mid-range product  Mid-range product  Regularly busy  \n",
       "3  Mid-range product  Mid-range product      Least busy  \n",
       "4  Mid-range product  Mid-range product      Least busy  "
      ]
     },
     "execution_count": 18,
     "metadata": {},
     "output_type": "execute_result"
    }
   ],
   "source": [
    "# Verify new variable\n",
    "\n",
    "df_ords_prods_merge.head()"
   ]
  },
  {
   "cell_type": "code",
   "execution_count": 20,
   "id": "cdc995fd-03c5-4fba-b1bf-6c54308ddd41",
   "metadata": {},
   "outputs": [
    {
     "data": {
      "text/plain": [
       "busiest_day\n",
       "Regularly busy    22437999\n",
       "Busiest day        6209808\n",
       "Least busy         3787263\n",
       "Name: count, dtype: int64"
      ]
     },
     "execution_count": 20,
     "metadata": {},
     "output_type": "execute_result"
    }
   ],
   "source": [
    "# Verify new variable\n",
    "\n",
    "df_ords_prods_merge['busiest_day'].value_counts(dropna = False)"
   ]
  },
  {
   "cell_type": "markdown",
   "id": "a050de44-f77f-404b-b309-2f53f3c7a79a",
   "metadata": {},
   "source": [
    "## 05. Task Step 2-3"
   ]
  },
  {
   "cell_type": "code",
   "execution_count": 23,
   "id": "4e2de1fd-eceb-4381-b8ee-b4860da413bb",
   "metadata": {},
   "outputs": [
    {
     "name": "stdout",
     "output_type": "stream",
     "text": [
      "Variable created and populated.\n"
     ]
    }
   ],
   "source": [
    "# Create and populate a new variable using an if-statement and for-loops.\n",
    "\n",
    "result = []\n",
    "\n",
    "for value in df_ords_prods_merge[\"orders_day_of_week\"]:\n",
    "  if value == 0 or value == 1:\n",
    "    result.append(\"Busiest days\")\n",
    "  elif value == 3 or value == 4:\n",
    "    result.append(\"Slowest days\")\n",
    "  else:\n",
    "    result.append(\"Regularly busy\")\n",
    "\n",
    "df_ords_prods_merge['busiest_days'] = result\n",
    "\n",
    "print(f\"Variable created and populated.\")"
   ]
  },
  {
   "cell_type": "code",
   "execution_count": 26,
   "id": "d8081a00-b12a-4701-b249-497ad08b5436",
   "metadata": {},
   "outputs": [
    {
     "data": {
      "text/html": [
       "<div>\n",
       "<style scoped>\n",
       "    .dataframe tbody tr th:only-of-type {\n",
       "        vertical-align: middle;\n",
       "    }\n",
       "\n",
       "    .dataframe tbody tr th {\n",
       "        vertical-align: top;\n",
       "    }\n",
       "\n",
       "    .dataframe thead th {\n",
       "        text-align: right;\n",
       "    }\n",
       "</style>\n",
       "<table border=\"1\" class=\"dataframe\">\n",
       "  <thead>\n",
       "    <tr style=\"text-align: right;\">\n",
       "      <th></th>\n",
       "      <th>Unnamed: 0</th>\n",
       "      <th>order_id</th>\n",
       "      <th>user_id</th>\n",
       "      <th>order_number</th>\n",
       "      <th>orders_day_of_week</th>\n",
       "      <th>order_hour_of_day</th>\n",
       "      <th>days_since_prior_order</th>\n",
       "      <th>product_id</th>\n",
       "      <th>add_to_cart_order</th>\n",
       "      <th>reordered</th>\n",
       "      <th>_merge</th>\n",
       "      <th>product_name</th>\n",
       "      <th>aisle_id</th>\n",
       "      <th>department_id</th>\n",
       "      <th>prices</th>\n",
       "      <th>price_range</th>\n",
       "      <th>price_range_loc</th>\n",
       "      <th>busiest_day</th>\n",
       "      <th>busiest_days</th>\n",
       "    </tr>\n",
       "  </thead>\n",
       "  <tbody>\n",
       "    <tr>\n",
       "      <th>0</th>\n",
       "      <td>0.0</td>\n",
       "      <td>2539329.0</td>\n",
       "      <td>1.0</td>\n",
       "      <td>1.0</td>\n",
       "      <td>2.0</td>\n",
       "      <td>8.0</td>\n",
       "      <td>NaN</td>\n",
       "      <td>196</td>\n",
       "      <td>1.0</td>\n",
       "      <td>0.0</td>\n",
       "      <td>both</td>\n",
       "      <td>Soda</td>\n",
       "      <td>77.0</td>\n",
       "      <td>7.0</td>\n",
       "      <td>9.0</td>\n",
       "      <td>Mid-range product</td>\n",
       "      <td>Mid-range product</td>\n",
       "      <td>Regularly busy</td>\n",
       "      <td>Regularly busy</td>\n",
       "    </tr>\n",
       "    <tr>\n",
       "      <th>1</th>\n",
       "      <td>1.0</td>\n",
       "      <td>2398795.0</td>\n",
       "      <td>1.0</td>\n",
       "      <td>2.0</td>\n",
       "      <td>3.0</td>\n",
       "      <td>7.0</td>\n",
       "      <td>15.0</td>\n",
       "      <td>196</td>\n",
       "      <td>1.0</td>\n",
       "      <td>1.0</td>\n",
       "      <td>both</td>\n",
       "      <td>Soda</td>\n",
       "      <td>77.0</td>\n",
       "      <td>7.0</td>\n",
       "      <td>9.0</td>\n",
       "      <td>Mid-range product</td>\n",
       "      <td>Mid-range product</td>\n",
       "      <td>Regularly busy</td>\n",
       "      <td>Slowest days</td>\n",
       "    </tr>\n",
       "    <tr>\n",
       "      <th>2</th>\n",
       "      <td>2.0</td>\n",
       "      <td>473747.0</td>\n",
       "      <td>1.0</td>\n",
       "      <td>3.0</td>\n",
       "      <td>3.0</td>\n",
       "      <td>12.0</td>\n",
       "      <td>21.0</td>\n",
       "      <td>196</td>\n",
       "      <td>1.0</td>\n",
       "      <td>1.0</td>\n",
       "      <td>both</td>\n",
       "      <td>Soda</td>\n",
       "      <td>77.0</td>\n",
       "      <td>7.0</td>\n",
       "      <td>9.0</td>\n",
       "      <td>Mid-range product</td>\n",
       "      <td>Mid-range product</td>\n",
       "      <td>Regularly busy</td>\n",
       "      <td>Slowest days</td>\n",
       "    </tr>\n",
       "    <tr>\n",
       "      <th>3</th>\n",
       "      <td>3.0</td>\n",
       "      <td>2254736.0</td>\n",
       "      <td>1.0</td>\n",
       "      <td>4.0</td>\n",
       "      <td>4.0</td>\n",
       "      <td>7.0</td>\n",
       "      <td>29.0</td>\n",
       "      <td>196</td>\n",
       "      <td>1.0</td>\n",
       "      <td>1.0</td>\n",
       "      <td>both</td>\n",
       "      <td>Soda</td>\n",
       "      <td>77.0</td>\n",
       "      <td>7.0</td>\n",
       "      <td>9.0</td>\n",
       "      <td>Mid-range product</td>\n",
       "      <td>Mid-range product</td>\n",
       "      <td>Least busy</td>\n",
       "      <td>Slowest days</td>\n",
       "    </tr>\n",
       "    <tr>\n",
       "      <th>4</th>\n",
       "      <td>4.0</td>\n",
       "      <td>431534.0</td>\n",
       "      <td>1.0</td>\n",
       "      <td>5.0</td>\n",
       "      <td>4.0</td>\n",
       "      <td>15.0</td>\n",
       "      <td>28.0</td>\n",
       "      <td>196</td>\n",
       "      <td>1.0</td>\n",
       "      <td>1.0</td>\n",
       "      <td>both</td>\n",
       "      <td>Soda</td>\n",
       "      <td>77.0</td>\n",
       "      <td>7.0</td>\n",
       "      <td>9.0</td>\n",
       "      <td>Mid-range product</td>\n",
       "      <td>Mid-range product</td>\n",
       "      <td>Least busy</td>\n",
       "      <td>Slowest days</td>\n",
       "    </tr>\n",
       "  </tbody>\n",
       "</table>\n",
       "</div>"
      ],
      "text/plain": [
       "   Unnamed: 0   order_id  user_id  order_number  orders_day_of_week  \\\n",
       "0         0.0  2539329.0      1.0           1.0                 2.0   \n",
       "1         1.0  2398795.0      1.0           2.0                 3.0   \n",
       "2         2.0   473747.0      1.0           3.0                 3.0   \n",
       "3         3.0  2254736.0      1.0           4.0                 4.0   \n",
       "4         4.0   431534.0      1.0           5.0                 4.0   \n",
       "\n",
       "   order_hour_of_day  days_since_prior_order  product_id  add_to_cart_order  \\\n",
       "0                8.0                     NaN         196                1.0   \n",
       "1                7.0                    15.0         196                1.0   \n",
       "2               12.0                    21.0         196                1.0   \n",
       "3                7.0                    29.0         196                1.0   \n",
       "4               15.0                    28.0         196                1.0   \n",
       "\n",
       "   reordered _merge product_name  aisle_id  department_id  prices  \\\n",
       "0        0.0   both         Soda      77.0            7.0     9.0   \n",
       "1        1.0   both         Soda      77.0            7.0     9.0   \n",
       "2        1.0   both         Soda      77.0            7.0     9.0   \n",
       "3        1.0   both         Soda      77.0            7.0     9.0   \n",
       "4        1.0   both         Soda      77.0            7.0     9.0   \n",
       "\n",
       "         price_range    price_range_loc     busiest_day    busiest_days  \n",
       "0  Mid-range product  Mid-range product  Regularly busy  Regularly busy  \n",
       "1  Mid-range product  Mid-range product  Regularly busy    Slowest days  \n",
       "2  Mid-range product  Mid-range product  Regularly busy    Slowest days  \n",
       "3  Mid-range product  Mid-range product      Least busy    Slowest days  \n",
       "4  Mid-range product  Mid-range product      Least busy    Slowest days  "
      ]
     },
     "execution_count": 26,
     "metadata": {},
     "output_type": "execute_result"
    }
   ],
   "source": [
    "# Verify new variable\n",
    "\n",
    "df_ords_prods_merge.head()"
   ]
  },
  {
   "cell_type": "code",
   "execution_count": 28,
   "id": "02900ccc-f289-4bea-93a3-62207253d4ec",
   "metadata": {},
   "outputs": [
    {
     "data": {
      "text/plain": [
       "busiest_days\n",
       "Regularly busy    12927873\n",
       "Busiest days      11875759\n",
       "Slowest days       7631438\n",
       "Name: count, dtype: int64"
      ]
     },
     "execution_count": 28,
     "metadata": {},
     "output_type": "execute_result"
    }
   ],
   "source": [
    "# Verify new variable\n",
    "\n",
    "df_ords_prods_merge['busiest_days'].value_counts(dropna = False)"
   ]
  },
  {
   "cell_type": "markdown",
   "id": "890f85b2-d00d-4523-8e0e-720230a00728",
   "metadata": {},
   "source": [
    "Observations: Regular busy days halved while busiest and slowest days doubled."
   ]
  },
  {
   "cell_type": "markdown",
   "id": "582427fa-8182-490c-a257-b6ccdcd70721",
   "metadata": {},
   "source": [
    "## 06. Task Step 4-5"
   ]
  },
  {
   "cell_type": "code",
   "execution_count": 30,
   "id": "de50b71f-7eff-47a1-ad15-c77f44bd534f",
   "metadata": {},
   "outputs": [
    {
     "data": {
      "text/plain": [
       "order_hour_of_day\n",
       "10.0    2764476\n",
       "11.0    2738647\n",
       "14.0    2691598\n",
       "15.0    2664583\n",
       "13.0    2663346\n",
       "12.0    2620898\n",
       "16.0    2537506\n",
       "9.0     2456751\n",
       "17.0    2089510\n",
       "8.0     1719991\n",
       "18.0    1637956\n",
       "19.0    1259416\n",
       "20.0     977049\n",
       "7.0      891951\n",
       "21.0     796379\n",
       "22.0     634743\n",
       "23.0     402621\n",
       "6.0      290796\n",
       "0.0      218951\n",
       "1.0      115787\n",
       "5.0       88064\n",
       "2.0       69435\n",
       "4.0       53284\n",
       "3.0       51321\n",
       "NaN          11\n",
       "Name: count, dtype: int64"
      ]
     },
     "execution_count": 30,
     "metadata": {},
     "output_type": "execute_result"
    }
   ],
   "source": [
    "# Review the value counts\n",
    "\n",
    "df_ords_prods_merge['order_hour_of_day'].value_counts(dropna = False)"
   ]
  },
  {
   "cell_type": "code",
   "execution_count": 33,
   "id": "7b839784-abeb-46a1-9eb3-c25e176dbe49",
   "metadata": {},
   "outputs": [
    {
     "name": "stdout",
     "output_type": "stream",
     "text": [
      "Variable created and populated.\n"
     ]
    }
   ],
   "source": [
    "# Create and populate a new variable using an if-statement and for-loops.\n",
    "\n",
    "busy_hour_results = []\n",
    "\n",
    "for value in df_ords_prods_merge['order_hour_of_day']:\n",
    "  if value == 10 or value == 11:\n",
    "    busy_hour_results.append('Most orders')\n",
    "  elif value == 3 or value == 4:\n",
    "    busy_hour_results.append('Fewest orders')\n",
    "  else:\n",
    "    busy_hour_results.append('Average orders')\n",
    "\n",
    "df_ords_prods_merge['busiest_period_of_day'] = busy_hour_results\n",
    "\n",
    "print(f\"Variable created and populated.\")"
   ]
  },
  {
   "cell_type": "code",
   "execution_count": 34,
   "id": "124b3ff5-e432-414c-a75a-498405fa3430",
   "metadata": {},
   "outputs": [
    {
     "data": {
      "text/html": [
       "<div>\n",
       "<style scoped>\n",
       "    .dataframe tbody tr th:only-of-type {\n",
       "        vertical-align: middle;\n",
       "    }\n",
       "\n",
       "    .dataframe tbody tr th {\n",
       "        vertical-align: top;\n",
       "    }\n",
       "\n",
       "    .dataframe thead th {\n",
       "        text-align: right;\n",
       "    }\n",
       "</style>\n",
       "<table border=\"1\" class=\"dataframe\">\n",
       "  <thead>\n",
       "    <tr style=\"text-align: right;\">\n",
       "      <th></th>\n",
       "      <th>Unnamed: 0</th>\n",
       "      <th>order_id</th>\n",
       "      <th>user_id</th>\n",
       "      <th>order_number</th>\n",
       "      <th>orders_day_of_week</th>\n",
       "      <th>order_hour_of_day</th>\n",
       "      <th>days_since_prior_order</th>\n",
       "      <th>product_id</th>\n",
       "      <th>add_to_cart_order</th>\n",
       "      <th>reordered</th>\n",
       "      <th>_merge</th>\n",
       "      <th>product_name</th>\n",
       "      <th>aisle_id</th>\n",
       "      <th>department_id</th>\n",
       "      <th>prices</th>\n",
       "      <th>price_range</th>\n",
       "      <th>price_range_loc</th>\n",
       "      <th>busiest_day</th>\n",
       "      <th>busiest_days</th>\n",
       "      <th>busiest_period_of_day</th>\n",
       "    </tr>\n",
       "  </thead>\n",
       "  <tbody>\n",
       "    <tr>\n",
       "      <th>0</th>\n",
       "      <td>0.0</td>\n",
       "      <td>2539329.0</td>\n",
       "      <td>1.0</td>\n",
       "      <td>1.0</td>\n",
       "      <td>2.0</td>\n",
       "      <td>8.0</td>\n",
       "      <td>NaN</td>\n",
       "      <td>196</td>\n",
       "      <td>1.0</td>\n",
       "      <td>0.0</td>\n",
       "      <td>both</td>\n",
       "      <td>Soda</td>\n",
       "      <td>77.0</td>\n",
       "      <td>7.0</td>\n",
       "      <td>9.0</td>\n",
       "      <td>Mid-range product</td>\n",
       "      <td>Mid-range product</td>\n",
       "      <td>Regularly busy</td>\n",
       "      <td>Regularly busy</td>\n",
       "      <td>Average orders</td>\n",
       "    </tr>\n",
       "    <tr>\n",
       "      <th>1</th>\n",
       "      <td>1.0</td>\n",
       "      <td>2398795.0</td>\n",
       "      <td>1.0</td>\n",
       "      <td>2.0</td>\n",
       "      <td>3.0</td>\n",
       "      <td>7.0</td>\n",
       "      <td>15.0</td>\n",
       "      <td>196</td>\n",
       "      <td>1.0</td>\n",
       "      <td>1.0</td>\n",
       "      <td>both</td>\n",
       "      <td>Soda</td>\n",
       "      <td>77.0</td>\n",
       "      <td>7.0</td>\n",
       "      <td>9.0</td>\n",
       "      <td>Mid-range product</td>\n",
       "      <td>Mid-range product</td>\n",
       "      <td>Regularly busy</td>\n",
       "      <td>Slowest days</td>\n",
       "      <td>Average orders</td>\n",
       "    </tr>\n",
       "    <tr>\n",
       "      <th>2</th>\n",
       "      <td>2.0</td>\n",
       "      <td>473747.0</td>\n",
       "      <td>1.0</td>\n",
       "      <td>3.0</td>\n",
       "      <td>3.0</td>\n",
       "      <td>12.0</td>\n",
       "      <td>21.0</td>\n",
       "      <td>196</td>\n",
       "      <td>1.0</td>\n",
       "      <td>1.0</td>\n",
       "      <td>both</td>\n",
       "      <td>Soda</td>\n",
       "      <td>77.0</td>\n",
       "      <td>7.0</td>\n",
       "      <td>9.0</td>\n",
       "      <td>Mid-range product</td>\n",
       "      <td>Mid-range product</td>\n",
       "      <td>Regularly busy</td>\n",
       "      <td>Slowest days</td>\n",
       "      <td>Average orders</td>\n",
       "    </tr>\n",
       "    <tr>\n",
       "      <th>3</th>\n",
       "      <td>3.0</td>\n",
       "      <td>2254736.0</td>\n",
       "      <td>1.0</td>\n",
       "      <td>4.0</td>\n",
       "      <td>4.0</td>\n",
       "      <td>7.0</td>\n",
       "      <td>29.0</td>\n",
       "      <td>196</td>\n",
       "      <td>1.0</td>\n",
       "      <td>1.0</td>\n",
       "      <td>both</td>\n",
       "      <td>Soda</td>\n",
       "      <td>77.0</td>\n",
       "      <td>7.0</td>\n",
       "      <td>9.0</td>\n",
       "      <td>Mid-range product</td>\n",
       "      <td>Mid-range product</td>\n",
       "      <td>Least busy</td>\n",
       "      <td>Slowest days</td>\n",
       "      <td>Average orders</td>\n",
       "    </tr>\n",
       "    <tr>\n",
       "      <th>4</th>\n",
       "      <td>4.0</td>\n",
       "      <td>431534.0</td>\n",
       "      <td>1.0</td>\n",
       "      <td>5.0</td>\n",
       "      <td>4.0</td>\n",
       "      <td>15.0</td>\n",
       "      <td>28.0</td>\n",
       "      <td>196</td>\n",
       "      <td>1.0</td>\n",
       "      <td>1.0</td>\n",
       "      <td>both</td>\n",
       "      <td>Soda</td>\n",
       "      <td>77.0</td>\n",
       "      <td>7.0</td>\n",
       "      <td>9.0</td>\n",
       "      <td>Mid-range product</td>\n",
       "      <td>Mid-range product</td>\n",
       "      <td>Least busy</td>\n",
       "      <td>Slowest days</td>\n",
       "      <td>Average orders</td>\n",
       "    </tr>\n",
       "  </tbody>\n",
       "</table>\n",
       "</div>"
      ],
      "text/plain": [
       "   Unnamed: 0   order_id  user_id  order_number  orders_day_of_week  \\\n",
       "0         0.0  2539329.0      1.0           1.0                 2.0   \n",
       "1         1.0  2398795.0      1.0           2.0                 3.0   \n",
       "2         2.0   473747.0      1.0           3.0                 3.0   \n",
       "3         3.0  2254736.0      1.0           4.0                 4.0   \n",
       "4         4.0   431534.0      1.0           5.0                 4.0   \n",
       "\n",
       "   order_hour_of_day  days_since_prior_order  product_id  add_to_cart_order  \\\n",
       "0                8.0                     NaN         196                1.0   \n",
       "1                7.0                    15.0         196                1.0   \n",
       "2               12.0                    21.0         196                1.0   \n",
       "3                7.0                    29.0         196                1.0   \n",
       "4               15.0                    28.0         196                1.0   \n",
       "\n",
       "   reordered _merge product_name  aisle_id  department_id  prices  \\\n",
       "0        0.0   both         Soda      77.0            7.0     9.0   \n",
       "1        1.0   both         Soda      77.0            7.0     9.0   \n",
       "2        1.0   both         Soda      77.0            7.0     9.0   \n",
       "3        1.0   both         Soda      77.0            7.0     9.0   \n",
       "4        1.0   both         Soda      77.0            7.0     9.0   \n",
       "\n",
       "         price_range    price_range_loc     busiest_day    busiest_days  \\\n",
       "0  Mid-range product  Mid-range product  Regularly busy  Regularly busy   \n",
       "1  Mid-range product  Mid-range product  Regularly busy    Slowest days   \n",
       "2  Mid-range product  Mid-range product  Regularly busy    Slowest days   \n",
       "3  Mid-range product  Mid-range product      Least busy    Slowest days   \n",
       "4  Mid-range product  Mid-range product      Least busy    Slowest days   \n",
       "\n",
       "  busiest_period_of_day  \n",
       "0        Average orders  \n",
       "1        Average orders  \n",
       "2        Average orders  \n",
       "3        Average orders  \n",
       "4        Average orders  "
      ]
     },
     "execution_count": 34,
     "metadata": {},
     "output_type": "execute_result"
    }
   ],
   "source": [
    "# Verify new variable\n",
    "\n",
    "df_ords_prods_merge.head()"
   ]
  },
  {
   "cell_type": "code",
   "execution_count": 35,
   "id": "ade25d51-c080-47e2-899f-bbd28a1fb1b4",
   "metadata": {},
   "outputs": [
    {
     "data": {
      "text/plain": [
       "busiest_period_of_day\n",
       "Average orders    26827342\n",
       "Most orders        5503123\n",
       "Fewest orders       104605\n",
       "Name: count, dtype: int64"
      ]
     },
     "execution_count": 35,
     "metadata": {},
     "output_type": "execute_result"
    }
   ],
   "source": [
    "# Verify new variable\n",
    "\n",
    "df_ords_prods_merge['busiest_period_of_day'].value_counts(dropna = False)"
   ]
  },
  {
   "cell_type": "markdown",
   "id": "1610747e-7e34-4588-8909-3cb8f05169d7",
   "metadata": {},
   "source": [
    "## 07. Export data"
   ]
  },
  {
   "cell_type": "code",
   "execution_count": 36,
   "id": "fe5f2c8b-8e3f-4449-b63f-55f8ddf1f2a0",
   "metadata": {},
   "outputs": [
    {
     "name": "stdout",
     "output_type": "stream",
     "text": [
      "DataFrame exported to /Users/bertpearce/Documents/Python Projects/2024.05.22 Instacard Basket Analysis/02 Data/Prepared Data/ords_prods_grouped.pkl\n"
     ]
    }
   ],
   "source": [
    "# Define the folder path and file name\n",
    "\n",
    "folder_path = r'/Users/bertpearce/Documents/Python Projects/2024.05.22 Instacard Basket Analysis/'\n",
    "\n",
    "file_name = 'ords_prods_grouped.pkl'\n",
    "\n",
    "# Create the full file path\n",
    "\n",
    "file_path = os.path.join(folder_path, '02 Data', 'Prepared Data', file_name)\n",
    "\n",
    "# Export the DataFrame to a PKL file\n",
    "\n",
    "df_ords_prods_merge.to_pickle(file_path)\n",
    "\n",
    "print(f\"DataFrame exported to {file_path}\")"
   ]
  },
  {
   "cell_type": "code",
   "execution_count": null,
   "id": "34449337-755d-43f8-a1a2-e41c33808428",
   "metadata": {},
   "outputs": [],
   "source": []
  }
 ],
 "metadata": {
  "kernelspec": {
   "display_name": "Python 3 (ipykernel)",
   "language": "python",
   "name": "python3"
  },
  "language_info": {
   "codemirror_mode": {
    "name": "ipython",
    "version": 3
   },
   "file_extension": ".py",
   "mimetype": "text/x-python",
   "name": "python",
   "nbconvert_exporter": "python",
   "pygments_lexer": "ipython3",
   "version": "3.11.7"
  }
 },
 "nbformat": 4,
 "nbformat_minor": 5
}
